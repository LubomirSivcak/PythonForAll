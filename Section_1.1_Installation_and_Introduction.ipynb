{
 "cells": [
  {
   "cell_type": "markdown",
   "metadata": {},
   "source": [
    "# 1.1.1 Proč Python?\n",
    "\n",
    "## Jednoduchost a čitelnost\n",
    "- Programovací jazyk slouží k zápisu programu pro lidi. \n",
    "- Klíčová vlastnost je čitelnost/srozumitelnost kódu.\n",
    "- Syntaxe Pythonu podporuje čitelnost a minimalizuje informační šum.\n",
    "- \"Make your code as simple as possible, but no simpler.\" (A. Einstein)\n",
    "- \"There should be one-- and preferably only one --obvious way to do it.\" \n",
    "  [Zen of Python](https://www.python.org/dev/peps/pep-0020/)\n",
    "\n",
    "##  Propojitelnost\n",
    "- Snadné napojení na existující kód v jiných jazycích.\n",
    "- Existující Pythoní knihovny (rozhraní) pro všechno:\n",
    "linear algebra, numerics, statistics, signal processing, web, databases, \n",
    "machine learning, ...\n",
    "- Přenositelnost na různé operační systémy. \n",
    "\n",
    "## Proč ne Matlab?\n",
    "- Python poskytuje všechno so Matlab.\n",
    "- Python je skutečně programovací jazyk.\n",
    "- Python nabízí propojenost s dalším kódem.\n",
    "- Python je FREE, žádné problémy s licencováním.\n",
    "\n",
    "[Why I push for Python (to teach programming).](https://lorenabarba.com/blog/why-i-push-for-python/)\n",
    "[Why I swapped C# for Python?](https://medium.com/@anthonypjshaw/why-i-swapped-c-net-for-python-as-my-default-language-and-platform-and-wont-be-going-back-e0063a25e491)\n",
    "\n",
    "## Nevýhody Pythonu\n",
    "\n",
    "- Dynamické typování a tzv. [\"duck typing\"](https://en.wikipedia.org/wiki/Duck_typing)   zjednodušuje implementaci, ale bez dokumentování a programátorské disciplíny vede k chybám a těžké orientaci v rozsáhlých projektech.\n",
    "- Interpretovaný a vysokoúrovňový jazyk nemůže být příliš rychlý. Kód vykonávaný přímo Pythonem je zhruba 10x pomalejší než stejný kód napsaný v C++. Možná řešení: \n",
    "  - používání knihoven implementovaných v kompilovaných jazycích\n",
    "  - [\"just-in-time\"](https://en.wikipedia.org/wiki/Just-in-time_compilation) kompilátor,\n",
    "    např. [PyPy](https://pypy.org/), [Numba](https://numba.pydata.org/) \n",
    "  - kompilovatelná varianta Pythonu: [Cython](http://cython.org/)\n",
    "  \n",
    "- Standardní interpreter [CPython](https://stackoverflow.com/questions/17130975/python-vs-cpython) neumožňuje\n",
    "  paralelní běh vláken kvůli použití globálního zámku [GIL](https://en.wikipedia.org/wiki/Global_interpreter_lock).\n",
    "  Možná řešení:\n",
    "  - paralelizmus pomocí procesů\n",
    "  - použití knihoven, které vnitřně vlákna využijí\n",
    "  - alternativní implementace bez GIL: Jython, IronPython, Cython (GIL lze dočasně vypnout)\n",
    "- Méně rozvinutá podpora mobilních platforem (např. oproti Javě).  \n",
    "\n",
    "\n"
   ]
  },
  {
   "cell_type": "markdown",
   "metadata": {},
   "source": [
    "# 1.1.2 IPython \n",
    "\n",
    "IPython umožňuje tvořit interaktivní sešity (notebook) obsahující kusy kódu v Pythonu a doprovodný text formátovaný pomocí Markdown s možností psaní vzorců v Latexu. Poznámky k přednáškám jsou psané v IPythonu a v něm také budeme provádět cvičení v rámci Seance 1.\n",
    "\n",
    "\n",
    "## Instalace\n",
    "Nainstalujte si kompletní Python systém [Anaconda](https://www.anaconda.com/download). Funguje pod Windows i Linuxem. Instalace zabere skoro 5GB, ale obsahuje již nainstalované všechny knihovny a závislosti co budeme potřebovat.\n",
    "\n",
    "## Vytvoření prostředí\n",
    "\n",
    "1. spuštění Anaconda terminálu\n",
    "   **Windows** : V nabídce \"Start\" najít a spustit \"Anaconda Prompt\".\n",
    "   \n",
    "   **Linux** : v terminálu přejít do adresáře anacondy:\n",
    "     \n",
    "        cd ${HOME}/bin/anaconda3/bin\n",
    "\n",
    "2. Aktualizace instalace.\n",
    "\n",
    "        conda update conda\n",
    "        \n",
    "2. vytvoření prostředí se jménam 'pav':\n",
    "        \n",
    "        conda create --name pav pyton=3.5\n",
    "        \n",
    "3. přechod do prostředí\n",
    "\n",
    "   **Windows** : `activate pav`\n",
    "   \n",
    "   **Linux** : `source activate pav`\n",
    "\n",
    "\n",
    "        \n",
    "\n",
    "## Spuštění\n",
    "\n",
    "V Linuxu (předpokládán výchozí adresář instalace):\n",
    "1. Vytvořte si adresář kde chcete ukládat IPython sešity. `mkdir $HOME/inotebooks`\n",
    "2. Nastavte se do adresáře: `cd $HOME/inotebooks`\n",
    "3. Spusťte ipython: \n",
    "    \n",
    "       $HOME/anaconda3/bin/jupyter notebook \n",
    "    \n",
    "   Zároveň by se vám měl spustit i prohlížeč s webovým frontendem. Pro další spouštění je vhodné si vytvořit zástupce na plochu, nebo skript. Postup pro Windows lze najít v Learning Python, budu rád když to někdo vyzkouší a popíše jakožto cvičení z IPythonu (resp. Markdownu)."
   ]
  },
  {
   "cell_type": "markdown",
   "metadata": {},
   "source": [
    "## Stažení sešitů přednášky - Git\n",
    "Sešity jsou dostupné v GitHub [repozitáři](https://github.com/jbrezmorf/PythonForAll). \n",
    "Naklonujte si tento repozitář pomocí nástroje `git` \n",
    "\n",
    "    cd $HOME/inotebooks\n",
    "    git clone https://github.com/jbrezmorf/PythonForAll.git\n",
    "    \n",
    "Nyní v IPythonu přejděte do adresáře 'PythonForAll' a spusťte si první notebook."
   ]
  },
  {
   "cell_type": "markdown",
   "metadata": {},
   "source": [
    "## Zdroje:\n",
    "\n",
    "[IPython cheetsheet](https://www.cheatography.com//jorgejuan007/cheat-sheets/jupyter-notebook-editor/pdf/)\n",
    "[numpy](http://datasciencefree.com/numpy.pdf)\n",
    "[numpy](https://medium.com/machine-learning-in-practice/cheat-sheet-of-machine-learning-and-python-and-math-cheat-sheets-a4afe4e791b6)\n",
    "\n",
    "\n",
    "[Python data types](http://datasciencefree.com/python.pdf)\n",
    "\n",
    "[More Python cheat sheet](https://sinxloud.com/python-cheat-sheet-beginner-advanced/)\n",
    "\n",
    "[PythonForDataScience](https://s3.amazonaws.com/assets.datacamp.com/blog_assets/PythonForDataScience.pdf)"
   ]
  },
  {
   "cell_type": "markdown",
   "metadata": {},
   "source": [
    "## Textová buňka - Markdown formát\n",
    "\n",
    "Textové buňky umožňují formátování textu pomocí značkovacího jazyka Markdown a formátování matematických vzorců pomocí Latexu. Viz. tento sešit.\n",
    "\n",
    "### Základní syntaxe\n",
    "Přehled formátovací syntaxe Markdown: [Markdown cheatsheet](https://scottboms.com/downloads/documentation/markdown_cheatsheet.pdf)\n",
    "\n",
    "### Matematické vzorce\n",
    "\n",
    "\n",
    "Jednoduchý dolar \\\\$ pro matematické formátování v textu:\n",
    "$A$, $A_i$, $A^2$ ... a text pokračuje.\n",
    "\n",
    "Dvojitý dolar pro samostatný matematický vzorec. \n",
    "Např.\n",
    "\n",
    "    $$\\sum_{i=1}^\\infty \\frac{1}{i^2} = \\frac{\\pi^2}{6}$$\n",
    "\n",
    "vysází:\n",
    "$$\\sum_{i=1}^\\infty \\frac{1}{i^2} = \\frac{\\pi^2}{6}$$\n",
    "\n",
    "Automaticky se rozpoznají i jiná LaTeX prostředí:\n",
    "\n",
    "\\begin{align}\n",
    "\\label{eq:Maxwel1}\n",
    "\\nabla \\times \\vec{\\mathbf{B}} -\\, \\frac1c\\, \\frac{\\partial\\vec{\\mathbf{E}}}{\\partial t} & = \\frac{4\\pi}{c}\\vec{\\mathbf{j}} \\\\\n",
    "\\nabla \\cdot \\vec{\\mathbf{E}} & = 4 \\pi \\rho \\\\\n",
    "\\nabla \\times \\vec{\\mathbf{E}}\\, +\\, \\frac1c\\, \\frac{\\partial\\vec{\\mathbf{B}}}{\\partial t} & = \\vec{\\mathbf{0}} \\\\\n",
    "\\nabla \\cdot \\vec{\\mathbf{B}} & = 0\n",
    "\\end{align}\n",
    "    "
   ]
  },
  {
   "cell_type": "markdown",
   "metadata": {},
   "source": [
    "### Další zdroje o IPython formátování:\n",
    "\n",
    "[Úvod do Markdown formátování](http://jupyter-notebook.readthedocs.io/en/stable/examples/Notebook/Working%20With%20Markdown%20Cells.html) a jeho rozšířeních v IPython sešitech.  \n",
    "\n",
    "[Další příklady rovnic](http://jupyter-notebook.readthedocs.io/en/stable/examples/Notebook/Typesetting%20Equations.html)\n",
    "\n",
    "[Online editor Latex výrazů](https://www.codecogs.com/latex/eqneditor.php)\n",
    "\n",
    "[Publikování pomocí IPython sešitů](http://blog.juliusschulz.de/blog/ultimate-ipython-notebook)\n",
    "\n"
   ]
  },
  {
   "cell_type": "markdown",
   "metadata": {},
   "source": [
    "### Ostatní buňky obsahují spustitelný kód"
   ]
  },
  {
   "cell_type": "code",
   "execution_count": 3,
   "metadata": {},
   "outputs": [
    {
     "name": "stdout",
     "output_type": "stream",
     "text": [
      "2\n"
     ]
    }
   ],
   "source": [
    "# Tento sešit používá python 3. Můžete vytvořit sešity i pro jiné jazyky.\n",
    "print(1 + 1)"
   ]
  },
  {
   "cell_type": "markdown",
   "metadata": {},
   "source": [
    "## Cvičení IPython"
   ]
  },
  {
   "cell_type": "code",
   "execution_count": null,
   "metadata": {},
   "outputs": [],
   "source": [
    "1. Zadat vytisteny notebook se simulacemi izotopů.\n",
    "Dát jim neformátovaný text, aby ho zformátovali a udělali patřičná políčka."
   ]
  },
  {
   "cell_type": "markdown",
   "metadata": {},
   "source": [
    "Vytvořte sešit obsahující následující prvky:\n",
    "\n",
    "- Nadpisy první a druhé úrovně.\n",
    "- Dva odstavce obyčejného textu.\n",
    "- Příklad kódu (neforátováno) v textu.\n",
    "- Odrážkový a číslovaný seznam.\n",
    "- Jednu buňku se spustitelným kódem"
   ]
  },
  {
   "cell_type": "markdown",
   "metadata": {},
   "source": [
    "Vytvořte matematické vzorce obsahující:\n",
    "- řecká písmena\n",
    "- složené zlomky\n",
    "- různě velké závorky\n",
    "- sumu, integrál, limitu\n",
    "- matici 2x2 s prvky 1, 2, 3, 4"
   ]
  },
  {
   "cell_type": "markdown",
   "metadata": {},
   "source": [
    "# 1.1.3 Python - proměnné\n"
   ]
  },
  {
   "cell_type": "markdown",
   "metadata": {},
   "source": [
    "## Skalární typy"
   ]
  },
  {
   "cell_type": "code",
   "execution_count": 35,
   "metadata": {},
   "outputs": [
    {
     "name": "stdout",
     "output_type": "stream",
     "text": [
      "type(a): <class 'NoneType'>\n"
     ]
    }
   ],
   "source": [
    "# objekt None. Univerzální hodnota pro nic.\n",
    "a = None\n",
    "print(\"type(a):\", type(a))"
   ]
  },
  {
   "cell_type": "code",
   "execution_count": 10,
   "metadata": {},
   "outputs": [
    {
     "name": "stdout",
     "output_type": "stream",
     "text": [
      "type(a): <class 'bool'>\n"
     ]
    }
   ],
   "source": [
    "# Typ bool.\n",
    "a = True\n",
    "a = False\n",
    "print(\"type(a):\", type(a))"
   ]
  },
  {
   "cell_type": "code",
   "execution_count": 5,
   "metadata": {},
   "outputs": [
    {
     "name": "stdout",
     "output_type": "stream",
     "text": [
      "type(a): <class 'int'>\n"
     ]
    }
   ],
   "source": [
    "# Typ int.\n",
    "a = 1\n",
    "print(\"type(a):\", type(a))"
   ]
  },
  {
   "cell_type": "code",
   "execution_count": 5,
   "metadata": {},
   "outputs": [
    {
     "name": "stdout",
     "output_type": "stream",
     "text": [
      "type(a): <class 'float'>\n"
     ]
    }
   ],
   "source": [
    "# Typ float.\n",
    "a = 1.0\n",
    "print(\"type(a):\", type(a))"
   ]
  },
  {
   "cell_type": "code",
   "execution_count": 6,
   "metadata": {},
   "outputs": [
    {
     "name": "stdout",
     "output_type": "stream",
     "text": [
      "type(a): <class 'complex'>\n"
     ]
    }
   ],
   "source": [
    "# Typ complex.\n",
    "a = 1.0 + 2j\n",
    "print(\"type(a):\", type(a))"
   ]
  },
  {
   "cell_type": "code",
   "execution_count": 8,
   "metadata": {},
   "outputs": [
    {
     "name": "stdout",
     "output_type": "stream",
     "text": [
      "type(a): <class 'str'> type(b): <class 'str'>\n",
      "\n",
      "Více řádků.\n",
      "   Tak, \n",
      "jak chci.\n",
      "\n"
     ]
    }
   ],
   "source": [
    "# Typ string.\n",
    "a = \"1\"\n",
    "b = '1'\n",
    "c = \"\"\"\n",
    "Více řádků.\n",
    "   Tak, \n",
    "jak chci.\n",
    "\"\"\"\n",
    "print(\"type(a):\", type(a), \"type(b):\", type(b))\n",
    "print(c)"
   ]
  },
  {
   "cell_type": "markdown",
   "metadata": {},
   "source": [
    "## Operátory\n",
    "### Aritmetické \n",
    "(pro int, float, complex)\n",
    "\n",
    "`+` (sčítání),  `-` (odčítání),\n",
    "\n",
    "`*` (násobení), `/` (dělení),\n",
    "\n",
    "`%` (modulo - zbytek po dělení), `//` (celočíselné dělení).\n",
    "\n",
    "`**` (umocnění), \n",
    "\n",
    "[Podrobný popis](https://www.tutorialspoint.com/python/python_basic_operators.htm). \n",
    "\n",
    "**Příklady**:"
   ]
  },
  {
   "cell_type": "code",
   "execution_count": 8,
   "metadata": {},
   "outputs": [
    {
     "data": {
      "text/plain": [
       "2.0"
      ]
     },
     "execution_count": 8,
     "metadata": {},
     "output_type": "execute_result"
    }
   ],
   "source": [
    "2.1 // 0.9"
   ]
  },
  {
   "cell_type": "code",
   "execution_count": 11,
   "metadata": {},
   "outputs": [
    {
     "data": {
      "text/plain": [
       "0.30000000000000004"
      ]
     },
     "execution_count": 11,
     "metadata": {},
     "output_type": "execute_result"
    }
   ],
   "source": [
    "2.1 % 0.9"
   ]
  },
  {
   "cell_type": "markdown",
   "metadata": {},
   "source": [
    "\n",
    "### Přiřazovací operátory\n",
    "    \n",
    "`=` přiřazení proměnné,\n",
    "\n",
    "`+=` přičtení `a = a + b`,\n",
    "\n",
    "`-=` odečtení, \n",
    "\n",
    "... \n",
    "\n",
    "### Porovnávací operátory, vracejí 'bool'\n",
    "\n",
    "    ==, !=, <, >, >=, <=\n",
    "    \n",
    "Zde je možno psát zkráceně: \n",
    "    \n",
    "    0 < a <= 1 \n",
    "    \n",
    "místo \n",
    "    \n",
    "    0 < a and a <= 1\n",
    "\n",
    "### bitové operátory \n",
    "\n",
    "    ~ (negace), & (bitový and), | (bitový or), << (rotace vlevo), >> (rotace vpravo)\n",
    "\n",
    "### logické operátory\n",
    "\n",
    "    not, and, or\n",
    "\n",
    "### operátory identity \n",
    "    \n",
    "    is, is not \n",
    "zda dva objekty jsou na stejném místě paměti (identické)\n",
    "    \n",
    "### operátory členství\n",
    "\n",
    "    a in b, a not in b \n",
    "zda  a je prvkem/ není prvkem b (list, set, dictionary, ...)"
   ]
  },
  {
   "cell_type": "markdown",
   "metadata": {},
   "source": [
    "## Proměnné = jména (name)\n",
    "\n",
    "- Proměnná je jménem pro objekt (odkaz).\n",
    "- Objekt může mít více jmen.\n",
    "- Pokud objekt nemá žádné jméno, je odstraněn z paměti (Garbage collector).\n",
    "- Některé objekty jsou neměnné (immutable) to jsou objekty typu: int, float, string. Ostaní jsou 'mutable'.\n",
    "\n",
    "Výpis objektů (odkazovaných proměnnými) provedeme pomocí funkce 'print'. IPython také vypíše poslední výraz pokud není přiřazen do proměnné."
   ]
  },
  {
   "cell_type": "code",
   "execution_count": 11,
   "metadata": {},
   "outputs": [
    {
     "name": "stdout",
     "output_type": "stream",
     "text": [
      "a ->  [1]\n",
      "b ->  [1]\n",
      "a ->  [1, 1]\n",
      "b ->  [1, 1]\n"
     ]
    }
   ],
   "source": [
    "# a --> [1]\n",
    "a = [1]\n",
    "# a --> [1] <-- b\n",
    "b = a\n",
    "\n",
    "print(\"a -> \", a)\n",
    "print(\"b -> \", b)\n",
    "\n",
    "# Do pole přidáme prvek.\n",
    "b.append(1)\n",
    "\n",
    "# Přes obě proměnné je dostupné stejné pole, nyní s prvkem '1'.\n",
    "print(\"a -> \", a)\n",
    "print(\"b -> \", b)"
   ]
  },
  {
   "cell_type": "markdown",
   "metadata": {},
   "source": [
    "### Neměnné objekty (immutable)\n",
    "- tyto objekty nelze změnit, modifikace je provedena na kopii objektu\n",
    "- jsou to skalární typy: `None`, `bool`, `int`, `float`, `complex`, `str`\n",
    "- a typ `tuple` ..."
   ]
  },
  {
   "cell_type": "code",
   "execution_count": 13,
   "metadata": {},
   "outputs": [
    {
     "name": "stdout",
     "output_type": "stream",
     "text": [
      "a ->  1     b ->  1\n",
      "a ->  2     b ->  1\n"
     ]
    }
   ],
   "source": [
    "a = 1\n",
    "b = a\n",
    "# a --> 1 <-- b\n",
    "print(\"a -> \", a, \"    b -> \", b)\n",
    "\n",
    "# Zvětšením o jedna neměníme objekt '1', ale přiřadíme proměnné 'a' objekt '2'. \n",
    "a += 1\n",
    "\n",
    "# a --> 2, b --> 1\n",
    "print(\"a -> \", a, \"    b -> \", b)"
   ]
  },
  {
   "cell_type": "markdown",
   "metadata": {},
   "source": [
    "Detailnější popis najdete [zde](https://mathieularose.com/python-variables/)."
   ]
  },
  {
   "cell_type": "markdown",
   "metadata": {},
   "source": [
    "## Zdroje\n",
    "Cílem kurzu je naznačit možnosti využití jazyka Python a vybraných knihoven ve vědecko-technických výpočtech. \n",
    "Vzhledem k velmi omezenému časovému prostoru se můžeme podorbně seznámit jen s velmi omezeným rozsahem nástrojů a postupů, ale pokusím se předložit dostatek literatury a odkazů pro dohledání dalších potřebných detailů. Ostatně vzhledem k velmi rychlému vývoji je nutné být ve střehu a udržovat si přehled průběžně.\n",
    "\n",
    "Bohužel není vůbec pokryta tématika strojového učení, kde je Python hojně používán.\n",
    "\n",
    "## Přehled literatury\n",
    "Některé níže uvedené knihy je elektronicky možno najít na adrese: bacula.nti.tul.cz (lomeno) ~jan.brezina/vyuka_PAV\n",
    "\n",
    "Většina kurzu je pokryta knihou (dále citováno jako NP):\n",
    "Robert Johansson: [Numerical Python](https://www.apress.com/gp/book/9781484205549)\n",
    "\n",
    "Ohledně **IPythonu** se můžou hodit některé kapitoly z:\n",
    "Cyrille Rossant: [IPython Interactive Computing ...](https://www.amazon.com/IPython-Interactive-Computing-Visualization-Cookbook/dp/1783284811), [nové vydání 2018](http://ipython-books.github.io/)\n",
    "... kdo se vyleká počtem stránek, tak může použít zkrácenou on-line verzi: [IPython Mini Cookbook](https://github.com/ipython-books/minibook-2nd-code)\n",
    "\n",
    "pro obecnější informace k Jupyteru:\n",
    "Dan Toomey: [Learning Jupiter](https://www.packtpub.com/big-data-and-business-intelligence/learning-jupyter)\n",
    "\n",
    "Pro úvod do jazyka **Python** dobře poslouží:\n",
    "Alen Downey at al. : [Learning with Python](http://www.foo.be/docs-free/thinkCSpy.pdf) \n",
    "pro hlubší studium lze doporučit relativně podrobnou knihu:\n",
    "Mark Lutz: [Learning Python](http://shop.oreilly.com/product/0636920028154.do)\n"
   ]
  }
 ],
 "metadata": {
  "kernelspec": {
   "display_name": "Python 3",
   "language": "python",
   "name": "python3"
  },
  "language_info": {
   "codemirror_mode": {
    "name": "ipython",
    "version": 3
   },
   "file_extension": ".py",
   "mimetype": "text/x-python",
   "name": "python",
   "nbconvert_exporter": "python",
   "pygments_lexer": "ipython3",
   "version": "3.6.8"
  }
 },
 "nbformat": 4,
 "nbformat_minor": 2
}
