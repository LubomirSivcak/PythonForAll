{
 "cells": [
  {
   "cell_type": "markdown",
   "metadata": {},
   "source": [
    "# 1.1.1 Proč Python?\n",
    "\n",
    "## Jednoduchost a čitelnost\n",
    "- Programovací jazyk slouží k zápisu programu pro lidi. \n",
    "- Klíčová vlastnost je čitelnost/srozumitelnost kódu.\n",
    "- Syntaxe Pythonu podporuje čitelnost a minimalizuje informační šum.\n",
    "- \"Make your code as simple as possible, but no simpler.\" (A. Einstein)\n",
    "- \"There should be one-- and preferably only one --obvious way to do it.\" \n",
    "  [Zen of Python](https://www.python.org/dev/peps/pep-0020/)\n",
    "\n",
    "##  Propojitelnost\n",
    "- Snadné napojení na existující kód v jiných jazycích.\n",
    "- Existující Pythoní knihovny (rozhraní) pro všechno:\n",
    "linear algebra, numerics, statistics, signal processing, web, databases, \n",
    "machine learning, ...\n",
    "- Přenositelnost na různé operační systémy. \n",
    "\n",
    "## Proč ne Matlab?\n",
    "- Python poskytuje všechno so Matlab.\n",
    "- Python je skutečně programovací jazyk.\n",
    "- Python nabízí propojenost s dalším kódem.\n",
    "- Python je FREE, žádné problémy s licencováním.\n",
    "\n",
    "Lorena A. Barba [Why I push for Python (to teach programming).](https://lorenabarba.com/blog/why-i-push-for-python/)\n",
    "\n",
    "Antony Shaw: [Why I swapped C# for Python?](https://medium.com/@anthonypjshaw/why-i-swapped-c-net-for-python-as-my-default-language-and-platform-and-wont-be-going-back-e0063a25e491)\n",
    "\n",
    "## Nevýhody Pythonu\n",
    "\n",
    "- Dynamické typování a tzv. [\"duck typing\"](https://en.wikipedia.org/wiki/Duck_typing)   zjednodušuje implementaci, ale bez dokumentování a programátorské disciplíny vede k chybám a těžké orientaci v rozsáhlých projektech.\n",
    "- Interpretovaný a vysokoúrovňový jazyk nemůže být příliš rychlý. Kód vykonávaný přímo Pythonem je zhruba 10x pomalejší než stejný kód napsaný v C++. Možná řešení: \n",
    "  - používání knihoven implementovaných v kompilovaných jazycích\n",
    "  - [\"just-in-time\"](https://en.wikipedia.org/wiki/Just-in-time_compilation) kompilátor,\n",
    "    např. [PyPy](https://pypy.org/), [Numba](https://numba.pydata.org/) \n",
    "  - kompilovatelná varianta Pythonu: [Cython](http://cython.org/)\n",
    "  \n",
    "- Standardní interpreter [CPython](https://stackoverflow.com/questions/17130975/python-vs-cpython) neumožňuje\n",
    "  paralelní běh vláken kvůli použití globálního zámku [GIL](https://en.wikipedia.org/wiki/Global_interpreter_lock).\n",
    "  Možná řešení:\n",
    "  - paralelizmus pomocí procesů\n",
    "  - použití knihoven, které vnitřně vlákna využijí\n",
    "  - alternativní implementace bez GIL: Jython, IronPython, Cython (GIL lze dočasně vypnout)\n",
    "- Méně rozvinutá podpora mobilních platforem (např. oproti Javě).  \n",
    "\n",
    "\n"
   ]
  },
  {
   "cell_type": "markdown",
   "metadata": {},
   "source": [
    "# 1.1.2 IPython \n",
    "\n",
    "IPython umožňuje tvořit interaktivní sešity (notebook) obsahující kusy kódu v Pythonu a doprovodný text formátovaný pomocí Markdown s možností psaní vzorců v Latexu. Poznámky k přednáškám jsou psané v IPythonu a v něm také budeme provádět cvičení v rámci Seance 1."
   ]
  },
  {
   "cell_type": "markdown",
   "metadata": {},
   "source": [
    "## Instalace (systém Windows)\n",
    "\n",
    "1. Stáhněte si instalaci balíku \n",
    "   [Anaconda](https://www.anaconda.com/download). Verze Python 3.x. \n",
    "   Instalace zabere cca 3.5GB místa. Spusťte instalaci ve standardním režimu.\n",
    "\n",
    "2. V nabídce \"Start\" spusťte \"Jupyter notebook\". Spustí se Jupyter server \n",
    "   a otevře se vám okno prohlížeče s frontendem.  \n",
    "\n",
    "3. V prohlížeči vidíte váš uživatelský adresář. Otevřete si v prohlížeči záloku s \n",
    "  \"terminálem\" pomocí: \"New\" -> \"Terminal\" vpravo nahoře.\n",
    "    \n",
    "4. Vytvořte si adresář pro notebooky. V terminálu spusťte:\n",
    "       \n",
    "            mkdir python\n",
    "            cd python\n",
    "\n",
    "5. Instalujte si verzovací nástroj git. V terminálu spusťte:\n",
    "            \n",
    "            conda install git\n",
    "            \n",
    "6. Stáhněte si projekt kurzu. V terminálu spusťte:\n",
    "    \n",
    "            git clone github.com/jbrezmorf/pythonforall.git\n",
    "    \n",
    "7. V hlavní záložce přejděte do adresáře \"python/pythonforall\" a spusťte sešit:\n",
    "    \"Section_1.1...\"\n",
    "    \n",
    "Při dalším spouštění stačí provést kroky 2. a 7. \n"
   ]
  },
  {
   "cell_type": "markdown",
   "metadata": {},
   "source": [
    "## Instalace (systém Linux)\n",
    "\n",
    "1. Stáhněte si instalaci balíku \n",
    "   [Anaconda](https://www.anaconda.com/download). Verze Python 3.x. \n",
    "   Instalace zabere cca 3.5GB místa. Z terminálu spusťte stažený skript pod uživatelem.\n",
    "\n",
    "2. Z terminálu spusťte:\n",
    "        \n",
    "        ~/anaconda3/bin/jupyter notebook\n",
    "   \n",
    "   Spustí se Jupyter server a otevře se vám okno prohlížeče s frontendem.  \n",
    "   Dle libosti si vytvořte pro tento příkaz zástupce na ploše nabo v menu.\n",
    "\n",
    "3. V prohlížeči vidíte váš uživatelský adresář. Otevřete si v prohlížeči záloku s \n",
    "  \"terminálem\" pomocí: \"New\" -> \"Terminal\" vpravo nahoře.\n",
    "    \n",
    "4. Vytvořte si adresář pro notebooky. V terminálu spusťte:\n",
    "       \n",
    "            mkdir python\n",
    "            cd python\n",
    "\n",
    "5. Instalujte si verzovací nástroj git. V terminálu spusťte:\n",
    "            \n",
    "            conda install git\n",
    "            \n",
    "6. Stáhněte si projekt kurzu. V terminálu spusťte:\n",
    "    \n",
    "            git clone github.com/jbrezmorf/pythonforall.git\n",
    "    \n",
    "7. V hlavní záložce přejděte do adresáře \"python/pythonforall\" a spusťte sešit:\n",
    "    \"Section_1.1...\"\n",
    "    \n",
    "Při dalším spouštění stačí provést kroky 2. a 7. \n"
   ]
  },
  {
   "cell_type": "markdown",
   "metadata": {},
   "source": [
    "## Zdroje:\n",
    "\n",
    "[IPython cheetsheet](https://www.cheatography.com//jorgejuan007/cheat-sheets/jupyter-notebook-editor/pdf/)\n",
    "[numpy](http://datasciencefree.com/numpy.pdf)\n",
    "[numpy](https://medium.com/machine-learning-in-practice/cheat-sheet-of-machine-learning-and-python-and-math-cheat-sheets-a4afe4e791b6)\n",
    "\n",
    "\n",
    "[Python data types](http://datasciencefree.com/python.pdf)\n",
    "\n",
    "[More Python cheat sheet](https://sinxloud.com/python-cheat-sheet-beginner-advanced/)\n",
    "\n",
    "[PythonForDataScience](https://s3.amazonaws.com/assets.datacamp.com/blog_assets/PythonForDataScience.pdf)\n",
    "\n",
    "[Galery of interesting notebooks](https://github.com/jupyter/jupyter/wiki/A-gallery-of-interesting-Jupyter-Notebooks)"
   ]
  },
  {
   "cell_type": "markdown",
   "metadata": {},
   "source": [
    "## Textová buňka - Markdown formát\n",
    "\n",
    "Textové buňky umožňují formátování textu pomocí značkovacího jazyka Markdown a formátování matematických vzorců pomocí Latexu. Viz. tento sešit.\n",
    "\n",
    "### Základní syntaxe\n",
    "Přehled formátovací syntaxe Markdown: [Markdown cheatsheet](https://scottboms.com/downloads/documentation/markdown_cheatsheet.pdf)\n",
    "\n",
    "### Matematické vzorce\n",
    "\n",
    "\n",
    "Jednoduchý dolar \\\\$ pro matematické formátování v textu:\n",
    "$A$, $A_i$, $A^2$ ... a text pokračuje.\n",
    "\n",
    "Dvojitý dolar pro samostatný matematický vzorec. \n",
    "Např.\n",
    "\n",
    "    $$\\sum_{i=1}^\\infty \\frac{1}{i^2} = \\frac{\\pi^2}{6}$$\n",
    "\n",
    "vysází:\n",
    "$$\\sum_{i=1}^\\infty \\frac{1}{i^2} = \\frac{\\pi^2}{6}$$\n",
    "\n",
    "Automaticky se rozpoznají i jiná LaTeX prostředí:\n",
    "\n",
    "\\begin{align}\n",
    "\\label{eq:Maxwel1}\n",
    "\\nabla \\times \\vec{\\mathbf{B}} -\\, \\frac1c\\, \\frac{\\partial\\vec{\\mathbf{E}}}{\\partial t} & = \\frac{4\\pi}{c}\\vec{\\mathbf{j}} \\\\\n",
    "\\nabla \\cdot \\vec{\\mathbf{E}} & = 4 \\pi \\rho \\\\\n",
    "\\nabla \\times \\vec{\\mathbf{E}}\\, +\\, \\frac1c\\, \\frac{\\partial\\vec{\\mathbf{B}}}{\\partial t} & = \\vec{\\mathbf{0}} \\\\\n",
    "\\nabla \\cdot \\vec{\\mathbf{B}} & = 0\n",
    "\\end{align}\n",
    "    "
   ]
  },
  {
   "cell_type": "markdown",
   "metadata": {},
   "source": [
    "### Další zdroje o IPython formátování:\n",
    "\n",
    "[Úvod do Markdown formátování](http://jupyter-notebook.readthedocs.io/en/stable/examples/Notebook/Working%20With%20Markdown%20Cells.html) a jeho rozšířeních v IPython sešitech.  \n",
    "\n",
    "[Další příklady rovnic](http://jupyter-notebook.readthedocs.io/en/stable/examples/Notebook/Typesetting%20Equations.html)\n",
    "\n",
    "[Online editor Latex výrazů](https://www.codecogs.com/latex/eqneditor.php)\n",
    "\n",
    "[Publikování pomocí IPython sešitů](http://blog.juliusschulz.de/blog/ultimate-ipython-notebook)\n",
    "\n"
   ]
  },
  {
   "cell_type": "markdown",
   "metadata": {},
   "source": [
    "### Ostatní buňky obsahují spustitelný kód"
   ]
  },
  {
   "cell_type": "code",
   "execution_count": 5,
   "metadata": {},
   "outputs": [
    {
     "name": "stdout",
     "output_type": "stream",
     "text": [
      "4\n"
     ]
    },
    {
     "data": {
      "text/plain": [
       "5"
      ]
     },
     "execution_count": 5,
     "metadata": {},
     "output_type": "execute_result"
    }
   ],
   "source": [
    "# Tento sešit používá python 3. Můžete vytvořit sešity i pro jiné jazyky.\n",
    "print(1 + 3)\n",
    "1 + 4"
   ]
  },
  {
   "cell_type": "markdown",
   "metadata": {},
   "source": [
    "## Cvičení IPython"
   ]
  },
  {
   "cell_type": "code",
   "execution_count": null,
   "metadata": {},
   "outputs": [],
   "source": []
  },
  {
   "cell_type": "markdown",
   "metadata": {},
   "source": [
    "Vytvořte sešit obsahující následující prvky:\n",
    "\n",
    "- Nadpisy první a druhé úrovně.\n",
    "- Dva odstavce obyčejného textu.\n",
    "- Příklad kódu (neformátováno) v textu.\n",
    "- Odrážkový a číslovaný seznam.\n",
    "- Jednu buňku se spustitelným kódem"
   ]
  },
  {
   "cell_type": "markdown",
   "metadata": {},
   "source": [
    "Vytvořte matematické vzorce obsahující:\n",
    "- řecká písmena\n",
    "- složené zlomky\n",
    "- různě velké závorky\n",
    "- sumu, integrál, limitu\n",
    "- matici 2x2 s prvky 1, 2, 3, 4"
   ]
  },
  {
   "cell_type": "markdown",
   "metadata": {},
   "source": [
    "## Zdroje\n",
    "Cílem kurzu je naznačit možnosti využití jazyka Python a vybraných knihoven ve vědecko-technických výpočtech. \n",
    "Vzhledem k velmi omezenému časovému prostoru se můžeme podorbně seznámit jen s velmi omezeným rozsahem nástrojů a postupů, ale pokusím se předložit dostatek literatury a odkazů pro dohledání dalších potřebných detailů. Ostatně vzhledem k velmi rychlému vývoji je nutné být ve střehu a udržovat si přehled průběžně.\n",
    "\n",
    "Bohužel není vůbec pokryta tématika strojového učení, kde je Python hojně používán.\n",
    "\n",
    "## Přehled literatury\n",
    "Některé níže uvedené knihy je elektronicky možno najít na adrese: bacula.nti.tul.cz (lomeno) ~jan.brezina/vyuka_PAV\n",
    "\n",
    "Většina kurzu je pokryta knihou (dále citováno jako NP):\n",
    "Robert Johansson: [Numerical Python](https://www.apress.com/gp/book/9781484205549)\n",
    "\n",
    "[J. R. Johansson: Scientific Python](https://nbviewer.jupyter.org/github/jrjohansson/scientific-python-lectures/tree/master/)\n",
    "\n",
    "\n",
    "Ohledně **IPythonu** se můžou hodit některé kapitoly z:\n",
    "Cyrille Rossant: [IPython Interactive Computing ...](https://www.amazon.com/IPython-Interactive-Computing-Visualization-Cookbook/dp/1783284811), [nové vydání 2018](http://ipython-books.github.io/)\n",
    "... kdo se vyleká počtem stránek, tak může použít zkrácenou on-line verzi: [IPython Mini Cookbook](https://github.com/ipython-books/minibook-2nd-code)\n",
    "\n",
    "pro obecnější informace k Jupyteru:\n",
    "Dan Toomey: [Learning Jupiter](https://www.packtpub.com/big-data-and-business-intelligence/learning-jupyter)\n",
    "\n",
    "Pro úvod do jazyka **Python** dobře poslouží:\n",
    "Alen Downey at al. : [Learning with Python](http://www.foo.be/docs-free/thinkCSpy.pdf) \n",
    "pro hlubší studium lze doporučit relativně podrobnou knihu:\n",
    "Mark Lutz: [Learning Python](http://shop.oreilly.com/product/0636920028154.do)\n"
   ]
  }
 ],
 "metadata": {
  "kernelspec": {
   "display_name": "Python 3",
   "language": "python",
   "name": "python3"
  },
  "language_info": {
   "codemirror_mode": {
    "name": "ipython",
    "version": 3
   },
   "file_extension": ".py",
   "mimetype": "text/x-python",
   "name": "python",
   "nbconvert_exporter": "python",
   "pygments_lexer": "ipython3",
   "version": "3.7.3"
  }
 },
 "nbformat": 4,
 "nbformat_minor": 2
}
