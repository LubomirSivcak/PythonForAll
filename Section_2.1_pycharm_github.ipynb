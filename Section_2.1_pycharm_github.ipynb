{
 "cells": [
  {
   "cell_type": "code",
   "execution_count": 1,
   "metadata": {},
   "outputs": [
    {
     "ename": "SyntaxError",
     "evalue": "invalid syntax (<ipython-input-1-7891b0b3619c>, line 1)",
     "output_type": "error",
     "traceback": [
      "\u001b[0;36m  File \u001b[0;32m\"<ipython-input-1-7891b0b3619c>\"\u001b[0;36m, line \u001b[0;32m1\u001b[0m\n\u001b[0;31m    Témata k programovací seanci:\u001b[0m\n\u001b[0m           ^\u001b[0m\n\u001b[0;31mSyntaxError\u001b[0m\u001b[0;31m:\u001b[0m invalid syntax\n"
     ]
    }
   ],
   "source": [
    "Témata k programovací seanci:\n",
    "    - assert\n",
    "    - komentování\n",
    "    - name conventions\n",
    "    - typování\n",
    "    \n",
    "? IPython undo\n",
    "? IPython copy cells between notebooks\n"
   ]
  },
  {
   "cell_type": "markdown",
   "metadata": {},
   "source": [
    "# 2.1.1 Git a Github\n",
    "\n",
    "**Git**\n",
    "- úložiště dat, zejména textových\n",
    "- verzovací systém, ukládá všechny provedené změny; umožňuje větvení \"vývoje\"\n",
    "- distribuovaný systém, umožňuje spolupráci na datech \n",
    "\n",
    "**GitHub**\n",
    "- cloudové gitové úložiště a webovým prohlížením\n",
    "- \"sociální síť\" pro uživatele úložiště\n",
    "- diskuse o změnách kódu\n",
    "- plány změn, reportování chyb, ...\n",
    "\n",
    "\n",
    "## Git\n",
    "\n",
    "### Prostory dat\n",
    "**workspace:** Pracovní adresář, zde provádíme změny.\n",
    "**stage:** Množina změn pro *commit*.\n",
    "**commit:** Množina souvisejících změn, uložená do *lokálního repozitáře*. \n",
    "**lokální repozitář:** Kompletní lokální kopie repozitáře (`adresář .git`).\n",
    "**vzdálený repozitář:** Obvykle jeden centrální repozitář (GitHub).\n",
    "\n",
    "![git ops](figures/git_operations.png)\n",
    "\n",
    "### Operace\n",
    "- `git init` Založení prázdného repozitáře. Netřeba, zařídí GitHub.\n",
    "- `git clone` Naklonování vzdáleného repozitáře (z GitHubu) do lokálního.\n",
    "- `git add` Přidání modifikovaného (nebo nového) souboru do stage.\n",
    "- `git commit` Přidání nové sady změn do lokálního repozitáře.\n",
    "- `git pull` Stažení změn ze vzdáleného repozitáře. + Aktualizace aktuální větve.\n",
    "- `git push` Nahrání lokálních commitů na vzdálený repozitář. Ten nesmí mít změny.\n",
    "\n",
    "\n",
    "- `git checkout` Změna souborů na jinou větev nebo commit.\n",
    "- `git merge` Sloučení jedné větve do druhé.\n",
    "- `git merge-tool` Spuštění externího nástroje pro řešení konfliktů.\n",
    "- `git stash` Uložení provedených lokálních změn na dočasné úložiště.\n"
   ]
  },
  {
   "cell_type": "markdown",
   "metadata": {},
   "source": [
    "## Doporučené aplikace\n",
    "Doporučuji následující aplikace (fungují pro Windows i Linux): \n",
    "\n",
    "[Gitcola klient](https://git-cola.github.io/) \n",
    "  - seznam lokálních repozitářů\n",
    "  - přehled změn ve workspace, přehazování do *stage* pomocí myši\n",
    "  - graf *komitů* v repozitáři\n",
    "  - další operace dostupné přes menu\n",
    "  \n",
    " [Kdiff3](http://kdiff3.sourceforge.net/)\n",
    " - porovnání dvou nebo tří souborů/adresářů\n",
    " - interaktivní sloučení změn v souboru\n",
    " \n",
    "\n",
    "\n",
    "\n"
   ]
  },
  {
   "cell_type": "markdown",
   "metadata": {},
   "source": [
    "## Github\n",
    "\n",
    "### [Založení účtu](https://github.com/join?source=login)\n",
    "- user name, mail, heslo\n",
    "- hádanka\n",
    "- Free verze\n",
    "- nepovinný dotazník\n",
    "- verifikace mailu\n",
    "\n",
    "### [Vytvoření repozitáře](https://github.com/new)\n",
    "- jméno repozitáře\n",
    "- popis\n",
    "- public (neomezené) / private (max. 3 lidé v neplacené verzi) \n",
    "- inicializace: README.md, .gitignore, licence \n",
    "\n",
    "### Nastavení SSH klíče\n",
    "Nepovinné, umožní nahrávání do repozitáře bez opakovaného zadávání hesla.\n",
    "\n",
    "**generování klíče**\n",
    "- [popis přihlašování přes SSH](https://help.github.com/en/articles/connecting-to-github-with-ssh)\n",
    "- [vygenerování SSH klíče](https://help.github.com/en/articles/generating-a-new-ssh-key-and-adding-it-to-the-ssh-agent) ... místo \"Git Bash\" můžete použít \"Anaconda Prompt\" \n",
    "  [nebo pod Windows pomocí Putty](https://docs.joyent.com/public-cloud/getting-started/ssh-keys/generating-an-ssh-key-manually/manually-generating-your-ssh-key-in-windows)\n",
    "\n",
    "**nahrání klíče**\n",
    "- osobní ikona vpravo nahoře -> Settings\n",
    "- \"SSH and GPG keys\" v menu nalevo\n",
    "- zelené tlačítko \"New SSH key\" vpravo nahoře\n",
    "- title: vaše pojmenování klíče\n",
    "- key: Ctrl-C, Ctrl-V \n",
    "\n",
    "### Test repozitáře\n",
    "- `git clone github.com/<user name>/<repozitory name>`\n",
    "- ..."
   ]
  },
  {
   "cell_type": "markdown",
   "metadata": {},
   "source": [
    "# 2.1.2 PyCharm IDE\n",
    "Profesionální nástroj dostupný (pro základní programování) zdarma. \n",
    "\n",
    "### Instalace\n",
    "\n",
    "**Windows**: \n",
    "    - [stáhnout](https://www.jetbrains.com/pycharm/download/) (comunity edition)\n",
    "    - standardní instalátor\n",
    "    \n",
    "**Linux Ubuntu**: \n",
    "        \n",
    "    sudo apt install snap\n",
    "    sudo snap install pycharm-community --classic\n",
    "    \n",
    "**Linux tarball**: \n",
    "    - [stáhnout](https://www.jetbrains.com/pycharm/download/) (comunity edition)\n",
    "    - pouze rozbalit do vhodného adresáře \n",
    "\n",
    "### Přehled klíčových funkcí\n",
    "\n",
    "- editor: obarvuje, vyznačuje potencionální chyby\n",
    "- navigace po zdrojácích:\n",
    "  - Ctrl-B: skok na definici\n",
    "  - Alt-F7: najít použití (funkce, proměnné)\n",
    "  - Alt-left, Alt-right: navigace zpět a dopředu\n",
    "- editor se \"učí\"\n",
    "- integrace testů\n",
    "- vynikající debuger\n",
    "- integrovaný git klient\n",
    "\n",
    "### Python interpret\n",
    "`File` > `Settings...` > `Project: <project name>` > `Project Interpreter`"
   ]
  }
 ],
 "metadata": {
  "kernelspec": {
   "display_name": "Python 3",
   "language": "python",
   "name": "python3"
  },
  "language_info": {
   "codemirror_mode": {
    "name": "ipython",
    "version": 3
   },
   "file_extension": ".py",
   "mimetype": "text/x-python",
   "name": "python",
   "nbconvert_exporter": "python",
   "pygments_lexer": "ipython3",
   "version": "3.6.8"
  }
 },
 "nbformat": 4,
 "nbformat_minor": 2
}
