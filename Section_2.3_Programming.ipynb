{
 "cells": [
  {
   "cell_type": "code",
   "execution_count": 1,
   "metadata": {
    "scrolled": true
   },
   "outputs": [
    {
     "ename": "SyntaxError",
     "evalue": "invalid syntax (<ipython-input-1-7891b0b3619c>, line 1)",
     "output_type": "error",
     "traceback": [
      "\u001b[0;36m  File \u001b[0;32m\"<ipython-input-1-7891b0b3619c>\"\u001b[0;36m, line \u001b[0;32m1\u001b[0m\n\u001b[0;31m    Témata k programovací seanci:\u001b[0m\n\u001b[0m           ^\u001b[0m\n\u001b[0;31mSyntaxError\u001b[0m\u001b[0;31m:\u001b[0m invalid syntax\n"
     ]
    }
   ],
   "source": [
    "Témata k programovací seanci:\n",
    "    - assert\n",
    "    - komentování\n",
    "    - name conventions\n",
    "    - typování\n",
    "    \n",
    "? IPython undo\n",
    "? IPython copy cells between notebooks\n"
   ]
  },
  {
   "cell_type": "markdown",
   "metadata": {},
   "source": [
    "# 2.3.2 Třídy\n",
    "\n",
    "- `class` definice\n",
    "- `self` parametr\n",
    "- dědičnost\n",
    "- atributy třídy vs. atributy objektu\n",
    "- `__dict__` - dict obsahující atributy\n",
    "- `hasattr(obj, attr_name)` \n",
    "- knihovna `attrs`\n",
    "\n",
    "\n",
    "... soubor `src/isotopes.py`"
   ]
  },
  {
   "cell_type": "markdown",
   "metadata": {},
   "source": [
    "# 2.3.3 Dekorátory\n",
    "\n"
   ]
  },
  {
   "cell_type": "markdown",
   "metadata": {},
   "source": [
    "# 2.3.4 Výjimky\n"
   ]
  },
  {
   "cell_type": "markdown",
   "metadata": {},
   "source": [
    "# 2.3.4 Unit testy\n",
    "\n",
    "## pytest \n",
    "Vyhledává soubory a v nich funkce a třídy pojmenované:`test_*` nebo `*_test`.\n",
    "Umožňuje jejich spuštění na sadách dat definovaných pomocí dekorátorů.\n",
    "...\n",
    "\n",
    "## tox\n",
    "Provede nainstalování celého balíku pomocí `setup.py` do virtuálního prostředí a teprve tam spouští testy.\n",
    "Testuje tedy i instalaci a chování po ní."
   ]
  },
  {
   "cell_type": "markdown",
   "metadata": {},
   "source": [
    "# 2.3.5 Typování v Pythonu\n",
    "\n",
    "- `from typing import *`\n",
    "- int, float, bool, ...\n",
    "- `List[<type>]`\n",
    "- `Dict[<key_type>, <val_type>]`\n",
    "- `Any`\n",
    "- zamýšleno pro statickou kontrolu kódu: ... PyCharm \n"
   ]
  },
  {
   "cell_type": "markdown",
   "metadata": {},
   "source": [
    "# 2.3.6 Python a SQL\n",
    "\n",
    "Creating and opearting MySql database: [Tutorial on w3schools](https://www.w3schools.com/python/python_mysql_getstarted.asp) \n",
    "\n",
    "Blog about reading SQL using Pandas: \n",
    "[SQL for data scientist](https://towardsdatascience.com/sql-in-python-for-beginners-b9a4f9293ecf)\n"
   ]
  }
 ],
 "metadata": {
  "kernelspec": {
   "display_name": "Python 3",
   "language": "python",
   "name": "python3"
  },
  "language_info": {
   "codemirror_mode": {
    "name": "ipython",
    "version": 3
   },
   "file_extension": ".py",
   "mimetype": "text/x-python",
   "name": "python",
   "nbconvert_exporter": "python",
   "pygments_lexer": "ipython3",
   "version": "3.6.8"
  }
 },
 "nbformat": 4,
 "nbformat_minor": 2
}
